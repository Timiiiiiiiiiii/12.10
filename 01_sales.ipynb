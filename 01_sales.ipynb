{
 "cells": [
  {
   "cell_type": "markdown",
   "metadata": {},
   "source": [
    "### 문제\n",
    "1. csv 폴더 안에 있는 'Sales Records.csv' 로드\n",
    "2. 'Order ID', 'Total Revenue', 'Total Cost', 'Total Profit', 'Sales Channedl'컬럼을 삭제\n",
    "3. 컬럼의 이름을 변경 -> ['대륙', '국가', '상품종류', '우선순위', '주문일자', '발송일자', '개수', '단가', '원가']\n",
    "4. 대륙과 국가를 기준으로 오름차순 정렬\n",
    "5. 기존의 인덱스는 제거하고 인덱스를 재지정\n",
    "6. 파생변수(새로운 컬럼)을 생성\n",
    "    - 총단가 = 개수 * 단가\n",
    "    - 총원가 = 개수 * 원가\n",
    "    - 총이윤 = 총단가 - 총원가"
   ]
  },
  {
   "cell_type": "code",
   "execution_count": null,
   "metadata": {},
   "outputs": [],
   "source": [
    "corona = pd.read_csv('D:\\\\python_\\\\ezen_python\\\\csv\\\\Sales Records.csv')\n",
    "df = df.drop(['Order ID','Total Revenue', 'Total Cost', 'Total Profit', 'Sales Channedl'], axis='columns')\n",
    "df.columns = ['대륙', '국가', '상품종류', '우선순위', '주문일자', '발송일자', '개수', '단가', '원가']\n",
    "df.sort_values(['대륙','국가'], ascending=True, inplace=True)\n",
    "df.reset_index(drop=True, inplace=True)\n",
    "\n",
    "data_list = [0]\n",
    "\n",
    "for i in range(0, len(df)-1, 1):\n",
    "    data = df.loc[i+1, '총확진자'] - df.loc[i, '총확진자']\n",
    "    data_list.append(data)\n",
    "print(data_list)"
   ]
  },
  {
   "cell_type": "code",
   "execution_count": null,
   "metadata": {},
   "outputs": [],
   "source": [
    "import pandas as pd"
   ]
  },
  {
   "cell_type": "code",
   "execution_count": null,
   "metadata": {},
   "outputs": [],
   "source": [
    "# 외부의 파일을 로드\n",
    "sales = pd.read_csv('../csv/Sales Records.csv') # ../ : 상위폴더로 이동\n",
    "sales.head()"
   ]
  },
  {
   "cell_type": "code",
   "execution_count": null,
   "metadata": {},
   "outputs": [],
   "source": [
    "# 특정 컬럼을 제거\n",
    "sales.drop(\n",
    "    ['Order ID','Total Revenue', 'Total Cost', 'Total Profit', 'Sales Channel'],\n",
    "axis=1, #축이 1이다 > 열을 제거하겠다\n",
    "inplace=True #>를 안쓰면 데이터 변화없다\n",
    ")"
   ]
  },
  {
   "cell_type": "code",
   "execution_count": null,
   "metadata": {},
   "outputs": [],
   "source": [
    "sales.head()"
   ]
  },
  {
   "cell_type": "code",
   "execution_count": null,
   "metadata": {},
   "outputs": [],
   "source": [
    "sales.columns = ['대륙', '국가', '상품종류', '우선순위', '주문일자', '발송일자', '개수', '단가', '원가'] #. : ~안에, coulumns에 해당한느 값 변경 "
   ]
  },
  {
   "cell_type": "code",
   "execution_count": null,
   "metadata": {},
   "outputs": [],
   "source": [
    "sales.head(1)"
   ]
  },
  {
   "cell_type": "code",
   "execution_count": null,
   "metadata": {},
   "outputs": [],
   "source": [
    "# 대륙과 국가로 오름차순 정렬\n",
    "sales.sort_values(['대륙','국가'], inplace=True)\n",
    "# sales.sort_values('국가',inplace=True)\n",
    "sales.head()"
   ]
  },
  {
   "cell_type": "code",
   "execution_count": null,
   "metadata": {},
   "outputs": [],
   "source": [
    "# 기존의 인덱스를 제거하고 인덱스를 재지정\n",
    "sales.reset_index(drop=True) # drop=True : 기존 인덱스값 삭제 "
   ]
  },
  {
   "cell_type": "code",
   "execution_count": null,
   "metadata": {},
   "outputs": [],
   "source": [
    "sales.reset_index(drop=True, inplace=True)"
   ]
  },
  {
   "cell_type": "code",
   "execution_count": null,
   "metadata": {},
   "outputs": [],
   "source": [
    "sales['개수'] # 데이터프레임에서 한가지 형태만 뽐음 > 쓰리즤 형태"
   ]
  },
  {
   "cell_type": "code",
   "execution_count": null,
   "metadata": {},
   "outputs": [],
   "source": [
    "sales['단가'] * sales['개수']"
   ]
  },
  {
   "cell_type": "code",
   "execution_count": null,
   "metadata": {},
   "outputs": [],
   "source": [
    "# 파생변수를 생성 (총원가, 총단가, 총이윤)\n",
    "sales['총단가'] = sales['개수'] * sales['단가'] # sales['개수']\n",
    "sales['총원가'] = sales['개수'] * sales['원가']\n",
    "sales['총이윤'] = sales['총단가'] - sales['총원가']\n",
    "# 위에 두개는 순서바꿔도 되지만 마지막꺼는 바뀌면 안됨 > 정의가 안되었기 때문    "
   ]
  },
  {
   "cell_type": "code",
   "execution_count": null,
   "metadata": {},
   "outputs": [],
   "source": [
    "sales.head(3)"
   ]
  },
  {
   "cell_type": "code",
   "execution_count": null,
   "metadata": {},
   "outputs": [],
   "source": [
    "# 컬럼의 순서를 변경\n",
    "sales = sales.iloc[:, [0,1,4,2,3,5,6,7,8,9,10,11]]"
   ]
  },
  {
   "cell_type": "code",
   "execution_count": null,
   "metadata": {},
   "outputs": [],
   "source": [
    "# 대륙을 기준으로 그룹화 -> 그룹화 연산 합계\n",
    "# 대륙 중 총 이윤의 합계가 가장 높은 대륙은 어디인가?\n",
    "sales.groupby('대륙'). mean() > # 오류발생 왜? 문자 데이터는 평균 못구함"
   ]
  },
  {
   "cell_type": "code",
   "execution_count": null,
   "metadata": {},
   "outputs": [],
   "source": [
    "group_data = sales[['총이윤', '대륙']].groupby('대륙'). sum"
   ]
  },
  {
   "cell_type": "code",
   "execution_count": null,
   "metadata": {},
   "outputs": [],
   "source": [
    "group_data.sort_values('총이윤', ascending=False) # ascending : 오름차순/내림차순 할거야? ascending 기본값은 TRUE(오름차순) > so 내림차순으로 보고 싶으면 FALSE"
   ]
  },
  {
   "cell_type": "code",
   "execution_count": null,
   "metadata": {},
   "outputs": [],
   "source": [
    "group_data.loc['Asia']"
   ]
  },
  {
   "cell_type": "code",
   "execution_count": null,
   "metadata": {},
   "outputs": [],
   "source": [
    "# 국가별 총이윤의 합계\n",
    "\n",
    "# 어느 국가가 가장 많이 버는가? -> 상위 top10만 출력\n",
    "# South Korea는 몇위인가?"
   ]
  },
  {
   "cell_type": "code",
   "execution_count": null,
   "metadata": {},
   "outputs": [],
   "source": [
    "# 국가별 총이윤의 합계\n",
    "group_data.sum('총이윤', ascending=False)\n",
    "# 어느 국가가 가장 많이 버는가? -> 상위 top10만 출력\n",
    "sales.groupby('총이윤').sum\n",
    "sales.sort_values(0:11,'국가', inplace=True)\n",
    "# South Korea는 몇위인가?\n"
   ]
  },
  {
   "cell_type": "code",
   "execution_count": null,
   "metadata": {},
   "outputs": [],
   "source": [
    "group_data2 = sales[['국가','총이윤']].groupby('국가').sum()"
   ]
  },
  {
   "cell_type": "code",
   "execution_count": null,
   "metadata": {},
   "outputs": [],
   "source": [
    "group_data2 = group_data2.sort_values('총이윤', ascending=False)"
   ]
  },
  {
   "cell_type": "code",
   "execution_count": null,
   "metadata": {},
   "outputs": [],
   "source": [
    "# 상위 top10을 확인\n",
    "group_data2.head(10)"
   ]
  },
  {
   "cell_type": "code",
   "execution_count": null,
   "metadata": {},
   "outputs": [],
   "source": [
    "# South Korea의 랭킹을 확인\n",
    "\n",
    "# case1 (반복문을 이용 while문)\n",
    "group_data2.index[0] == 'South Korea'\n",
    "\n",
    "i = 0 # 초기값0이라고 지정\n",
    "\n",
    "while i < len(group_data2):\n",
    "    if group_data2.index[i] == 'South Korea' : # 해당하는 인덱스가 south korea인지\n",
    "        #print(i)\n",
    "        break\n",
    "    i += 1\n",
    "    \n",
    "print(i+1) # 1부터 시작하자"
   ]
  },
  {
   "cell_type": "code",
   "execution_count": null,
   "metadata": {},
   "outputs": [],
   "source": [
    "# case2 (for문)\n",
    "# korea_rank 초기값을 지정\n",
    "korea_rank = 1\n",
    "for i in group_data2.index: \n",
    "    # i에 들어가는 데이터들은? -> 국가명\n",
    "    # print(i) > i가 뭔지 알아보기 위해 써본것\n",
    "    if i == 'South Korea': # i와 South Korea를 비교해서 South Korea면 멈춤\n",
    "        break\n",
    "    korea_rank += 1\n",
    "korea_rank"
   ]
  },
  {
   "cell_type": "code",
   "execution_count": null,
   "metadata": {},
   "outputs": [],
   "source": [
    "# case3 (reset_index를 이용)\n",
    "case3 = group_data2.reset_index()"
   ]
  },
  {
   "cell_type": "code",
   "execution_count": null,
   "metadata": {},
   "outputs": [],
   "source": [
    "# 국가가 South Korea인 데이터만 필터\n",
    "flag = group_data2['국가'] == 'South Korea'"
   ]
  },
  {
   "cell_type": "code",
   "execution_count": null,
   "metadata": {},
   "outputs": [],
   "source": [
    "case3.loc[flag].index[0] + 1"
   ]
  },
  {
   "cell_type": "code",
   "execution_count": null,
   "metadata": {},
   "outputs": [],
   "source": [
    "# case4 (rank 파생변수를 생성)\n",
    "group_data2['rank'] = range(1, len(group_data2)+1, 1)"
   ]
  },
  {
   "cell_type": "code",
   "execution_count": null,
   "metadata": {},
   "outputs": [],
   "source": [
    "group_data2.head(5)"
   ]
  },
  {
   "cell_type": "code",
   "execution_count": null,
   "metadata": {},
   "outputs": [],
   "source": [
    "group_data2.loc['South Korea']"
   ]
  },
  {
   "cell_type": "code",
   "execution_count": null,
   "metadata": {},
   "outputs": [],
   "source": [
    "# case5 (list에 있는 내장함수)\n",
    "# 위치를 출력하는 함수 -> 문자열 데이터에서 특정 문자의 위치를 나타내는 함수 (find(), index())\n",
    "# list에서는 특정 위치를 출력하는 함수 index()\n",
    "list(group_data2.index).index('South Korea') + 1"
   ]
  },
  {
   "cell_type": "code",
   "execution_count": null,
   "metadata": {},
   "outputs": [],
   "source": [
    "# 상위 10개의 국가를 그래프 표시\n",
    "import matplotlib.pyplot as plt"
   ]
  },
  {
   "cell_type": "code",
   "execution_count": null,
   "metadata": {},
   "outputs": [],
   "source": [
    "data = group_data2.head(10)"
   ]
  },
  {
   "cell_type": "code",
   "execution_count": null,
   "metadata": {},
   "outputs": [],
   "source": [
    "x = data.index\n",
    "y = data['총이윤']\n",
    "\n",
    "plt.bar(x,y)\n",
    "plt.show()"
   ]
  },
  {
   "cell_type": "code",
   "execution_count": null,
   "metadata": {},
   "outputs": [],
   "source": [
    "# 그래프의 크기를 변경\n",
    "plt.figure(figsize=(14.8))\n",
    "plt.bar(x,y)\n",
    "plt.show()"
   ]
  },
  {
   "cell_type": "code",
   "execution_count": null,
   "metadata": {},
   "outputs": [],
   "source": [
    "# x, y를 반전\n",
    "plt.barh(x,y)\n",
    "plt.show()"
   ]
  },
  {
   "cell_type": "code",
   "execution_count": null,
   "metadata": {},
   "outputs": [],
   "source": [
    "# x축 데이터들을 회전\n",
    "plt.bar(x,y)\n",
    "plt.xticks(rotation=45)\n",
    "plt.show()"
   ]
  }
 ],
 "metadata": {
  "kernelspec": {
   "display_name": "Python 3",
   "language": "python",
   "name": "python3"
  },
  "language_info": {
   "codemirror_mode": {
    "name": "ipython",
    "version": 3
   },
   "file_extension": ".py",
   "mimetype": "text/x-python",
   "name": "python",
   "nbconvert_exporter": "python",
   "pygments_lexer": "ipython3",
   "version": "3.12.0"
  }
 },
 "nbformat": 4,
 "nbformat_minor": 2
}
